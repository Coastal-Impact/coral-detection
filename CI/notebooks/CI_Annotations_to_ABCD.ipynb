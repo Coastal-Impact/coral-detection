{
  "nbformat": 4,
  "nbformat_minor": 0,
  "metadata": {
    "colab": {
      "provenance": []
    },
    "kernelspec": {
      "name": "python3",
      "display_name": "Python 3"
    },
    "language_info": {
      "name": "python"
    }
  },
  "cells": [
    {
      "cell_type": "markdown",
      "source": [
        "### Import Libraries"
      ],
      "metadata": {
        "id": "9aMjUjWVUMKl"
      }
    },
    {
      "cell_type": "code",
      "execution_count": 1,
      "metadata": {
        "id": "tmQKLXWHT8ND"
      },
      "outputs": [],
      "source": [
        "import os\n",
        "import sys\n",
        "\n",
        "import json\n",
        "import numpy as np"
      ]
    },
    {
      "cell_type": "code",
      "source": [
        "NEW_CATEGORIES = [\"coral_a\", 'coral_b', 'coral_c', 'coral_d']"
      ],
      "metadata": {
        "id": "S5xQ3OTtUAW6"
      },
      "execution_count": 2,
      "outputs": []
    },
    {
      "cell_type": "code",
      "source": [
        "### Basic Utils\n",
        "\n",
        "def read_coco_file(coco_file_address):\n",
        "    open_file = open(coco_file_address)\n",
        "    coco_file = json.load(open_file)\n",
        "    return coco_file\n",
        "\n",
        "def save_coco_file(coco_file, coco_file_address):\n",
        "    with open(coco_file_address, 'w') as f:\n",
        "        json.dump(coco_file, f)\n",
        "    return None\n",
        "\n",
        "def get_minimum_items_idx(list_arr, n):\n",
        "    ordered_idx = list(np.argsort(list_arr))[:n]\n",
        "    ordered_items = list(np.array(list_arr)[ordered_idx])\n",
        "    return ordered_idx, ordered_items\n",
        "\n",
        "### Category mapping based functions\n",
        "\n",
        "def check_for_abcd(coco_file):\n",
        "    # this has to be made uniform and stricter\n",
        "    to_check = NEW_CATEGORIES\n",
        "    categories_list = coco_file[\"categories\"]\n",
        "    cat_names = [cat['name'].lower() for cat in categories_list]\n",
        "    for item_to_check in to_check:\n",
        "        if item_to_check in cat_names:\n",
        "            return True\n",
        "    return False\n",
        "\n",
        "def turn_abcd_lower(coco_file):\n",
        "    categories_list = coco_file[\"categories\"]\n",
        "    for idx, cat in enumerate(categories_list):\n",
        "        categories_list[idx]['name'] = cat[\"name\"].lower()\n",
        "    return coco_file\n",
        "\n",
        "def create_new_category_mapping(coco_file):\n",
        "    categories_list = coco_file[\"categories\"]\n",
        "    ids = [cat['id'] for cat in categories_list]\n",
        "    last_id = max(ids)\n",
        "    coco_file['categories'].extend(get_new_categories(last_id))\n",
        "    return coco_file\n",
        "\n",
        "def get_new_categories(last_id):\n",
        "    new_list = []\n",
        "    for idx, cat in enumerate(NEW_CATEGORIES):\n",
        "        new_list.append({\"id\":last_id + idx + 1, \"name\" : cat })\n",
        "    return new_list\n",
        "\n",
        "def get_id_class_map(coco_file):\n",
        "    new_dict = {}\n",
        "    for item in coco_file['categories']:\n",
        "        new_dict[item['id']] = item['name']\n",
        "    return new_dict\n",
        "\n",
        "### Annotation based functions\n",
        "\n",
        "def get_annotation_center_info(all_bboxs, all_classes, id_class_map):\n",
        "    annotation_center_arr = []\n",
        "    for idx, bbox in enumerate(all_bboxs):\n",
        "        center_of_seg = get_center_of_bbox(bbox)\n",
        "        annotation_center_arr.append(center_of_seg)\n",
        "        if id_class_map[all_classes[idx]] == \"ref\":\n",
        "            ref_center = center_of_seg\n",
        "    return annotation_center_arr, ref_center\n",
        "\n",
        "def get_center_of_bbox(bbox):\n",
        "    x0, y0, w, h = bbox\n",
        "    center_x = x0 + w/2\n",
        "    center_y = y0 + h/2\n",
        "    return center_x, center_y\n",
        "\n",
        "def get_distance_arr(center_arr, ref_center):\n",
        "    distance_arr = []\n",
        "    for center in center_arr:\n",
        "        distance = ((center[0] - ref_center[0])**2 + (center[1] - ref_center[1])**2)**(1/2)\n",
        "        distance_arr.append(distance)\n",
        "    return distance_arr\n",
        "\n",
        "def get_image_id_annotation_map(coco_file):\n",
        "    image_id_dict = {}\n",
        "    for annotation in coco_file[\"annotations\"]:\n",
        "        image_id = annotation['image_id']\n",
        "        if image_id not in image_id_dict.keys():\n",
        "            image_id_dict[image_id] = []\n",
        "        image_id_dict[image_id].append(annotation)\n",
        "    return image_id_dict\n",
        "\n",
        "def get_new_annotations(image_annotations, id_class_map):\n",
        "    all_bboxs = [annotation['bbox'] for annotation in image_annotations]\n",
        "    all_classes = [annotation['category_id'] for annotation in image_annotations]\n",
        "\n",
        "    annotation_center_arr, ref_center = get_annotation_center_info(all_bboxs, all_classes, id_class_map)\n",
        "    distance_arr = get_distance_arr(annotation_center_arr, ref_center)\n",
        "    min_dist_idx, min_dists = get_minimum_items_idx(distance_arr, 5)\n",
        "    min_dist_idx = min_dist_idx[1:] ### because the first item refers to the reference block distance\n",
        "\n",
        "    coral_annotation_ids = get_coral_annotation_ids(annotation_center_arr, min_dist_idx, id_class_map)\n",
        "\n",
        "    for idx, coral_annotation_id in enumerate(coral_annotation_ids):\n",
        "        if coral_annotation_id!=None:\n",
        "            image_annotations[min_dist_idx[idx]]['category_id'] = coral_annotation_id\n",
        "\n",
        "    return image_annotations\n",
        "\n",
        "def get_coral_annotation_ids(annotation_center_arr, min_dist_idx, id_class_map):\n",
        "    class_id_map = {j:i for i, j in id_class_map.items()}\n",
        "\n",
        "    centers = list(np.array(annotation_center_arr)[min_dist_idx])\n",
        "    all_xs = [center[0] for center in centers]\n",
        "    all_ys = [center[1] for center in centers]\n",
        "\n",
        "    ordered_x_idx, min_xs = get_minimum_items_idx(all_xs, 4)\n",
        "    min_x_idx = ordered_x_idx[:2]\n",
        "    max_x_idx = ordered_x_idx[2:]\n",
        "\n",
        "    temp_ys = list(np.array(all_ys)[min_x_idx])\n",
        "    min_temp_y_idx, _ = get_minimum_items_idx(temp_ys, 2)\n",
        "\n",
        "    try:\n",
        "        coral_a_idx = np.array(min_x_idx)[min_temp_y_idx[0]]\n",
        "    except IndexError:\n",
        "        coral_a_idx = None\n",
        "    try:\n",
        "        coral_c_idx = np.array(min_x_idx)[min_temp_y_idx[1]]\n",
        "    except IndexError:\n",
        "        coral_c_idx = None\n",
        "\n",
        "    temp_ys = list(np.array(all_ys)[max_x_idx])\n",
        "    min_temp_y_idx, _ = get_minimum_items_idx(temp_ys, 2)\n",
        "\n",
        "    try:\n",
        "        coral_b_idx = np.array(max_x_idx)[min_temp_y_idx[0]]\n",
        "    except IndexError:\n",
        "        coral_b_idx = None\n",
        "    try:\n",
        "        coral_d_idx = np.array(max_x_idx)[min_temp_y_idx[1]]\n",
        "    except IndexError:\n",
        "        coral_d_idx = None\n",
        "\n",
        "    coral_annotations = [None, None, None, None]\n",
        "\n",
        "    if coral_a_idx!=None:\n",
        "        coral_annotations[coral_a_idx] = class_id_map['coral_a']\n",
        "    if coral_b_idx!=None:\n",
        "        coral_annotations[coral_b_idx] = class_id_map['coral_b']\n",
        "    if coral_c_idx!=None:\n",
        "        coral_annotations[coral_c_idx] = class_id_map['coral_c']\n",
        "    if coral_d_idx!=None:\n",
        "        coral_annotations[coral_d_idx] = class_id_map['coral_d']\n",
        "\n",
        "    return coral_annotations"
      ],
      "metadata": {
        "id": "2rLSLMesUCSa"
      },
      "execution_count": 3,
      "outputs": []
    },
    {
      "cell_type": "markdown",
      "source": [
        "### Main Process"
      ],
      "metadata": {
        "id": "S5H02nq3UJUJ"
      }
    },
    {
      "cell_type": "code",
      "source": [
        "import os\n",
        "from glob import glob"
      ],
      "metadata": {
        "id": "bs8vejrCd3Z3"
      },
      "execution_count": 4,
      "outputs": []
    },
    {
      "cell_type": "code",
      "source": [
        "main_dir_address = \"/content/drive/MyDrive/Projects/Coral Microfragmentation/Coral Monitoring/22-23 Season/\"\n",
        "\n",
        "all_date_names = [\"22.12.7\", \"23.2.28\", \"23.4.9\", \"23.2.6\", \"23.1.6\", \"23.5.5\"]\n",
        "all_table_names = [\"table_4\",\"table_5\",\"table_6\",\"table_7\",\"table_8\",\"table_9\",\"table_10\"]\n",
        "\n",
        "# all_date_names = [\"23.2.6\"]\n",
        "# all_table_names = [\"table_9\"]\n",
        "\n",
        "all_coco_addresses = []\n",
        "all_coco_save_addresses = []\n",
        "\n",
        "for date in all_date_names:\n",
        "    for table in all_table_names:\n",
        "        folder_with_coco_file = os.path.join(main_dir_address, date, table, 'Output', \"Annotation Output\")\n",
        "        potential_coco_files = glob(os.path.join(folder_with_coco_file, \"*.json\"))\n",
        "        potential_coco_files_lower = [i.lower() for i in potential_coco_files]\n",
        "        coco_file_idx = [i for i, j in enumerate(potential_coco_files_lower) if 'coco' in j][0]\n",
        "        coco_file_address = potential_coco_files[coco_file_idx]\n",
        "        all_coco_addresses.append(coco_file_address)\n",
        "        all_coco_save_addresses.append(coco_file_address)"
      ],
      "metadata": {
        "id": "yg2AQuopUFes"
      },
      "execution_count": 25,
      "outputs": []
    },
    {
      "cell_type": "code",
      "source": [
        "for idx, coco_address in enumerate(all_coco_addresses):\n",
        "    coco_save_address = all_coco_save_addresses[idx]\n",
        "\n",
        "    coco_file = read_coco_file(coco_address)\n",
        "\n",
        "    abcd_present = check_for_abcd(coco_file)\n",
        "    coco_file = turn_abcd_lower(coco_file)\n",
        "    if not abcd_present:\n",
        "        # extend current categories with new categories\n",
        "        coco_file = create_new_category_mapping(coco_file)\n",
        "\n",
        "        id_class_map = get_id_class_map(coco_file)\n",
        "        image_id_annotation_map = get_image_id_annotation_map(coco_file)\n",
        "\n",
        "        all_new_annotations = []\n",
        "        for image_id, image_annotations in image_id_annotation_map.items():\n",
        "            new_annotations = get_new_annotations(image_annotations, id_class_map)\n",
        "            all_new_annotations.extend(new_annotations)\n",
        "\n",
        "        all_ids = []\n",
        "        for annotation in all_new_annotations:\n",
        "            all_ids.append(annotation['id'])\n",
        "\n",
        "        new_order = np.argsort(all_ids)\n",
        "        all_new_annotations = list(np.array(all_new_annotations)[new_order])\n",
        "\n",
        "        coco_file['annotations'] = all_new_annotations\n",
        "    save_coco_file(coco_file, coco_save_address)"
      ],
      "metadata": {
        "id": "BxxDGB2gUIlr"
      },
      "execution_count": 26,
      "outputs": []
    }
  ]
}